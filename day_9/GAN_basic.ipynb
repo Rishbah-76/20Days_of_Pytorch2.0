{
  "nbformat": 4,
  "nbformat_minor": 0,
  "metadata": {
    "colab": {
      "provenance": [],
      "gpuType": "T4"
    },
    "kernelspec": {
      "name": "python3",
      "display_name": "Python 3"
    },
    "language_info": {
      "name": "python"
    },
    "accelerator": "GPU"
  },
  "cells": [
    {
      "cell_type": "code",
      "execution_count": 1,
      "metadata": {
        "colab": {
          "base_uri": "https://localhost:8080/"
        },
        "id": "0wIyZKKyIaIq",
        "outputId": "fdfb0448-418a-4601-8952-8bd339bc64ce"
      },
      "outputs": [
        {
          "output_type": "stream",
          "name": "stdout",
          "text": [
            "Requirement already satisfied: torch in /usr/local/lib/python3.11/dist-packages (2.6.0+cu124)\n",
            "Requirement already satisfied: filelock in /usr/local/lib/python3.11/dist-packages (from torch) (3.18.0)\n",
            "Requirement already satisfied: typing-extensions>=4.10.0 in /usr/local/lib/python3.11/dist-packages (from torch) (4.13.2)\n",
            "Requirement already satisfied: networkx in /usr/local/lib/python3.11/dist-packages (from torch) (3.5)\n",
            "Requirement already satisfied: jinja2 in /usr/local/lib/python3.11/dist-packages (from torch) (3.1.6)\n",
            "Requirement already satisfied: fsspec in /usr/local/lib/python3.11/dist-packages (from torch) (2025.3.2)\n",
            "Collecting nvidia-cuda-nvrtc-cu12==12.4.127 (from torch)\n",
            "  Downloading nvidia_cuda_nvrtc_cu12-12.4.127-py3-none-manylinux2014_x86_64.whl.metadata (1.5 kB)\n",
            "Collecting nvidia-cuda-runtime-cu12==12.4.127 (from torch)\n",
            "  Downloading nvidia_cuda_runtime_cu12-12.4.127-py3-none-manylinux2014_x86_64.whl.metadata (1.5 kB)\n",
            "Collecting nvidia-cuda-cupti-cu12==12.4.127 (from torch)\n",
            "  Downloading nvidia_cuda_cupti_cu12-12.4.127-py3-none-manylinux2014_x86_64.whl.metadata (1.6 kB)\n",
            "Collecting nvidia-cudnn-cu12==9.1.0.70 (from torch)\n",
            "  Downloading nvidia_cudnn_cu12-9.1.0.70-py3-none-manylinux2014_x86_64.whl.metadata (1.6 kB)\n",
            "Collecting nvidia-cublas-cu12==12.4.5.8 (from torch)\n",
            "  Downloading nvidia_cublas_cu12-12.4.5.8-py3-none-manylinux2014_x86_64.whl.metadata (1.5 kB)\n",
            "Collecting nvidia-cufft-cu12==11.2.1.3 (from torch)\n",
            "  Downloading nvidia_cufft_cu12-11.2.1.3-py3-none-manylinux2014_x86_64.whl.metadata (1.5 kB)\n",
            "Collecting nvidia-curand-cu12==10.3.5.147 (from torch)\n",
            "  Downloading nvidia_curand_cu12-10.3.5.147-py3-none-manylinux2014_x86_64.whl.metadata (1.5 kB)\n",
            "Collecting nvidia-cusolver-cu12==11.6.1.9 (from torch)\n",
            "  Downloading nvidia_cusolver_cu12-11.6.1.9-py3-none-manylinux2014_x86_64.whl.metadata (1.6 kB)\n",
            "Collecting nvidia-cusparse-cu12==12.3.1.170 (from torch)\n",
            "  Downloading nvidia_cusparse_cu12-12.3.1.170-py3-none-manylinux2014_x86_64.whl.metadata (1.6 kB)\n",
            "Requirement already satisfied: nvidia-cusparselt-cu12==0.6.2 in /usr/local/lib/python3.11/dist-packages (from torch) (0.6.2)\n",
            "Requirement already satisfied: nvidia-nccl-cu12==2.21.5 in /usr/local/lib/python3.11/dist-packages (from torch) (2.21.5)\n",
            "Requirement already satisfied: nvidia-nvtx-cu12==12.4.127 in /usr/local/lib/python3.11/dist-packages (from torch) (12.4.127)\n",
            "Collecting nvidia-nvjitlink-cu12==12.4.127 (from torch)\n",
            "  Downloading nvidia_nvjitlink_cu12-12.4.127-py3-none-manylinux2014_x86_64.whl.metadata (1.5 kB)\n",
            "Requirement already satisfied: triton==3.2.0 in /usr/local/lib/python3.11/dist-packages (from torch) (3.2.0)\n",
            "Requirement already satisfied: sympy==1.13.1 in /usr/local/lib/python3.11/dist-packages (from torch) (1.13.1)\n",
            "Requirement already satisfied: mpmath<1.4,>=1.1.0 in /usr/local/lib/python3.11/dist-packages (from sympy==1.13.1->torch) (1.3.0)\n",
            "Requirement already satisfied: MarkupSafe>=2.0 in /usr/local/lib/python3.11/dist-packages (from jinja2->torch) (3.0.2)\n",
            "Downloading nvidia_cublas_cu12-12.4.5.8-py3-none-manylinux2014_x86_64.whl (363.4 MB)\n",
            "\u001b[2K   \u001b[90m━━━━━━━━━━━━━━━━━━━━━━━━━━━━━━━━━━━━━━━━\u001b[0m \u001b[32m363.4/363.4 MB\u001b[0m \u001b[31m1.4 MB/s\u001b[0m eta \u001b[36m0:00:00\u001b[0m\n",
            "\u001b[?25hDownloading nvidia_cuda_cupti_cu12-12.4.127-py3-none-manylinux2014_x86_64.whl (13.8 MB)\n",
            "\u001b[2K   \u001b[90m━━━━━━━━━━━━━━━━━━━━━━━━━━━━━━━━━━━━━━━━\u001b[0m \u001b[32m13.8/13.8 MB\u001b[0m \u001b[31m119.5 MB/s\u001b[0m eta \u001b[36m0:00:00\u001b[0m\n",
            "\u001b[?25hDownloading nvidia_cuda_nvrtc_cu12-12.4.127-py3-none-manylinux2014_x86_64.whl (24.6 MB)\n",
            "\u001b[2K   \u001b[90m━━━━━━━━━━━━━━━━━━━━━━━━━━━━━━━━━━━━━━━━\u001b[0m \u001b[32m24.6/24.6 MB\u001b[0m \u001b[31m85.7 MB/s\u001b[0m eta \u001b[36m0:00:00\u001b[0m\n",
            "\u001b[?25hDownloading nvidia_cuda_runtime_cu12-12.4.127-py3-none-manylinux2014_x86_64.whl (883 kB)\n",
            "\u001b[2K   \u001b[90m━━━━━━━━━━━━━━━━━━━━━━━━━━━━━━━━━━━━━━━━\u001b[0m \u001b[32m883.7/883.7 kB\u001b[0m \u001b[31m53.9 MB/s\u001b[0m eta \u001b[36m0:00:00\u001b[0m\n",
            "\u001b[?25hDownloading nvidia_cudnn_cu12-9.1.0.70-py3-none-manylinux2014_x86_64.whl (664.8 MB)\n",
            "\u001b[2K   \u001b[90m━━━━━━━━━━━━━━━━━━━━━━━━━━━━━━━━━━━━━━━━\u001b[0m \u001b[32m664.8/664.8 MB\u001b[0m \u001b[31m2.2 MB/s\u001b[0m eta \u001b[36m0:00:00\u001b[0m\n",
            "\u001b[?25hDownloading nvidia_cufft_cu12-11.2.1.3-py3-none-manylinux2014_x86_64.whl (211.5 MB)\n",
            "\u001b[2K   \u001b[90m━━━━━━━━━━━━━━━━━━━━━━━━━━━━━━━━━━━━━━━━\u001b[0m \u001b[32m211.5/211.5 MB\u001b[0m \u001b[31m5.2 MB/s\u001b[0m eta \u001b[36m0:00:00\u001b[0m\n",
            "\u001b[?25hDownloading nvidia_curand_cu12-10.3.5.147-py3-none-manylinux2014_x86_64.whl (56.3 MB)\n",
            "\u001b[2K   \u001b[90m━━━━━━━━━━━━━━━━━━━━━━━━━━━━━━━━━━━━━━━━\u001b[0m \u001b[32m56.3/56.3 MB\u001b[0m \u001b[31m12.3 MB/s\u001b[0m eta \u001b[36m0:00:00\u001b[0m\n",
            "\u001b[?25hDownloading nvidia_cusolver_cu12-11.6.1.9-py3-none-manylinux2014_x86_64.whl (127.9 MB)\n",
            "\u001b[2K   \u001b[90m━━━━━━━━━━━━━━━━━━━━━━━━━━━━━━━━━━━━━━━━\u001b[0m \u001b[32m127.9/127.9 MB\u001b[0m \u001b[31m7.9 MB/s\u001b[0m eta \u001b[36m0:00:00\u001b[0m\n",
            "\u001b[?25hDownloading nvidia_cusparse_cu12-12.3.1.170-py3-none-manylinux2014_x86_64.whl (207.5 MB)\n",
            "\u001b[2K   \u001b[90m━━━━━━━━━━━━━━━━━━━━━━━━━━━━━━━━━━━━━━━━\u001b[0m \u001b[32m207.5/207.5 MB\u001b[0m \u001b[31m5.4 MB/s\u001b[0m eta \u001b[36m0:00:00\u001b[0m\n",
            "\u001b[?25hDownloading nvidia_nvjitlink_cu12-12.4.127-py3-none-manylinux2014_x86_64.whl (21.1 MB)\n",
            "\u001b[2K   \u001b[90m━━━━━━━━━━━━━━━━━━━━━━━━━━━━━━━━━━━━━━━━\u001b[0m \u001b[32m21.1/21.1 MB\u001b[0m \u001b[31m43.3 MB/s\u001b[0m eta \u001b[36m0:00:00\u001b[0m\n",
            "\u001b[?25hInstalling collected packages: nvidia-nvjitlink-cu12, nvidia-curand-cu12, nvidia-cufft-cu12, nvidia-cuda-runtime-cu12, nvidia-cuda-nvrtc-cu12, nvidia-cuda-cupti-cu12, nvidia-cublas-cu12, nvidia-cusparse-cu12, nvidia-cudnn-cu12, nvidia-cusolver-cu12\n",
            "  Attempting uninstall: nvidia-nvjitlink-cu12\n",
            "    Found existing installation: nvidia-nvjitlink-cu12 12.5.82\n",
            "    Uninstalling nvidia-nvjitlink-cu12-12.5.82:\n",
            "      Successfully uninstalled nvidia-nvjitlink-cu12-12.5.82\n",
            "  Attempting uninstall: nvidia-curand-cu12\n",
            "    Found existing installation: nvidia-curand-cu12 10.3.6.82\n",
            "    Uninstalling nvidia-curand-cu12-10.3.6.82:\n",
            "      Successfully uninstalled nvidia-curand-cu12-10.3.6.82\n",
            "  Attempting uninstall: nvidia-cufft-cu12\n",
            "    Found existing installation: nvidia-cufft-cu12 11.2.3.61\n",
            "    Uninstalling nvidia-cufft-cu12-11.2.3.61:\n",
            "      Successfully uninstalled nvidia-cufft-cu12-11.2.3.61\n",
            "  Attempting uninstall: nvidia-cuda-runtime-cu12\n",
            "    Found existing installation: nvidia-cuda-runtime-cu12 12.5.82\n",
            "    Uninstalling nvidia-cuda-runtime-cu12-12.5.82:\n",
            "      Successfully uninstalled nvidia-cuda-runtime-cu12-12.5.82\n",
            "  Attempting uninstall: nvidia-cuda-nvrtc-cu12\n",
            "    Found existing installation: nvidia-cuda-nvrtc-cu12 12.5.82\n",
            "    Uninstalling nvidia-cuda-nvrtc-cu12-12.5.82:\n",
            "      Successfully uninstalled nvidia-cuda-nvrtc-cu12-12.5.82\n",
            "  Attempting uninstall: nvidia-cuda-cupti-cu12\n",
            "    Found existing installation: nvidia-cuda-cupti-cu12 12.5.82\n",
            "    Uninstalling nvidia-cuda-cupti-cu12-12.5.82:\n",
            "      Successfully uninstalled nvidia-cuda-cupti-cu12-12.5.82\n",
            "  Attempting uninstall: nvidia-cublas-cu12\n",
            "    Found existing installation: nvidia-cublas-cu12 12.5.3.2\n",
            "    Uninstalling nvidia-cublas-cu12-12.5.3.2:\n",
            "      Successfully uninstalled nvidia-cublas-cu12-12.5.3.2\n",
            "  Attempting uninstall: nvidia-cusparse-cu12\n",
            "    Found existing installation: nvidia-cusparse-cu12 12.5.1.3\n",
            "    Uninstalling nvidia-cusparse-cu12-12.5.1.3:\n",
            "      Successfully uninstalled nvidia-cusparse-cu12-12.5.1.3\n",
            "  Attempting uninstall: nvidia-cudnn-cu12\n",
            "    Found existing installation: nvidia-cudnn-cu12 9.3.0.75\n",
            "    Uninstalling nvidia-cudnn-cu12-9.3.0.75:\n",
            "      Successfully uninstalled nvidia-cudnn-cu12-9.3.0.75\n",
            "  Attempting uninstall: nvidia-cusolver-cu12\n",
            "    Found existing installation: nvidia-cusolver-cu12 11.6.3.83\n",
            "    Uninstalling nvidia-cusolver-cu12-11.6.3.83:\n",
            "      Successfully uninstalled nvidia-cusolver-cu12-11.6.3.83\n",
            "Successfully installed nvidia-cublas-cu12-12.4.5.8 nvidia-cuda-cupti-cu12-12.4.127 nvidia-cuda-nvrtc-cu12-12.4.127 nvidia-cuda-runtime-cu12-12.4.127 nvidia-cudnn-cu12-9.1.0.70 nvidia-cufft-cu12-11.2.1.3 nvidia-curand-cu12-10.3.5.147 nvidia-cusolver-cu12-11.6.1.9 nvidia-cusparse-cu12-12.3.1.170 nvidia-nvjitlink-cu12-12.4.127\n",
            "Requirement already satisfied: torchvision in /usr/local/lib/python3.11/dist-packages (0.21.0+cu124)\n",
            "Requirement already satisfied: numpy in /usr/local/lib/python3.11/dist-packages (from torchvision) (2.0.2)\n",
            "Requirement already satisfied: torch==2.6.0 in /usr/local/lib/python3.11/dist-packages (from torchvision) (2.6.0+cu124)\n",
            "Requirement already satisfied: pillow!=8.3.*,>=5.3.0 in /usr/local/lib/python3.11/dist-packages (from torchvision) (11.2.1)\n",
            "Requirement already satisfied: filelock in /usr/local/lib/python3.11/dist-packages (from torch==2.6.0->torchvision) (3.18.0)\n",
            "Requirement already satisfied: typing-extensions>=4.10.0 in /usr/local/lib/python3.11/dist-packages (from torch==2.6.0->torchvision) (4.13.2)\n",
            "Requirement already satisfied: networkx in /usr/local/lib/python3.11/dist-packages (from torch==2.6.0->torchvision) (3.5)\n",
            "Requirement already satisfied: jinja2 in /usr/local/lib/python3.11/dist-packages (from torch==2.6.0->torchvision) (3.1.6)\n",
            "Requirement already satisfied: fsspec in /usr/local/lib/python3.11/dist-packages (from torch==2.6.0->torchvision) (2025.3.2)\n",
            "Requirement already satisfied: nvidia-cuda-nvrtc-cu12==12.4.127 in /usr/local/lib/python3.11/dist-packages (from torch==2.6.0->torchvision) (12.4.127)\n",
            "Requirement already satisfied: nvidia-cuda-runtime-cu12==12.4.127 in /usr/local/lib/python3.11/dist-packages (from torch==2.6.0->torchvision) (12.4.127)\n",
            "Requirement already satisfied: nvidia-cuda-cupti-cu12==12.4.127 in /usr/local/lib/python3.11/dist-packages (from torch==2.6.0->torchvision) (12.4.127)\n",
            "Requirement already satisfied: nvidia-cudnn-cu12==9.1.0.70 in /usr/local/lib/python3.11/dist-packages (from torch==2.6.0->torchvision) (9.1.0.70)\n",
            "Requirement already satisfied: nvidia-cublas-cu12==12.4.5.8 in /usr/local/lib/python3.11/dist-packages (from torch==2.6.0->torchvision) (12.4.5.8)\n",
            "Requirement already satisfied: nvidia-cufft-cu12==11.2.1.3 in /usr/local/lib/python3.11/dist-packages (from torch==2.6.0->torchvision) (11.2.1.3)\n",
            "Requirement already satisfied: nvidia-curand-cu12==10.3.5.147 in /usr/local/lib/python3.11/dist-packages (from torch==2.6.0->torchvision) (10.3.5.147)\n",
            "Requirement already satisfied: nvidia-cusolver-cu12==11.6.1.9 in /usr/local/lib/python3.11/dist-packages (from torch==2.6.0->torchvision) (11.6.1.9)\n",
            "Requirement already satisfied: nvidia-cusparse-cu12==12.3.1.170 in /usr/local/lib/python3.11/dist-packages (from torch==2.6.0->torchvision) (12.3.1.170)\n",
            "Requirement already satisfied: nvidia-cusparselt-cu12==0.6.2 in /usr/local/lib/python3.11/dist-packages (from torch==2.6.0->torchvision) (0.6.2)\n",
            "Requirement already satisfied: nvidia-nccl-cu12==2.21.5 in /usr/local/lib/python3.11/dist-packages (from torch==2.6.0->torchvision) (2.21.5)\n",
            "Requirement already satisfied: nvidia-nvtx-cu12==12.4.127 in /usr/local/lib/python3.11/dist-packages (from torch==2.6.0->torchvision) (12.4.127)\n",
            "Requirement already satisfied: nvidia-nvjitlink-cu12==12.4.127 in /usr/local/lib/python3.11/dist-packages (from torch==2.6.0->torchvision) (12.4.127)\n",
            "Requirement already satisfied: triton==3.2.0 in /usr/local/lib/python3.11/dist-packages (from torch==2.6.0->torchvision) (3.2.0)\n",
            "Requirement already satisfied: sympy==1.13.1 in /usr/local/lib/python3.11/dist-packages (from torch==2.6.0->torchvision) (1.13.1)\n",
            "Requirement already satisfied: mpmath<1.4,>=1.1.0 in /usr/local/lib/python3.11/dist-packages (from sympy==1.13.1->torch==2.6.0->torchvision) (1.3.0)\n",
            "Requirement already satisfied: MarkupSafe>=2.0 in /usr/local/lib/python3.11/dist-packages (from jinja2->torch==2.6.0->torchvision) (3.0.2)\n",
            "Requirement already satisfied: matplotlib in /usr/local/lib/python3.11/dist-packages (3.10.0)\n",
            "Requirement already satisfied: contourpy>=1.0.1 in /usr/local/lib/python3.11/dist-packages (from matplotlib) (1.3.2)\n",
            "Requirement already satisfied: cycler>=0.10 in /usr/local/lib/python3.11/dist-packages (from matplotlib) (0.12.1)\n",
            "Requirement already satisfied: fonttools>=4.22.0 in /usr/local/lib/python3.11/dist-packages (from matplotlib) (4.58.1)\n",
            "Requirement already satisfied: kiwisolver>=1.3.1 in /usr/local/lib/python3.11/dist-packages (from matplotlib) (1.4.8)\n",
            "Requirement already satisfied: numpy>=1.23 in /usr/local/lib/python3.11/dist-packages (from matplotlib) (2.0.2)\n",
            "Requirement already satisfied: packaging>=20.0 in /usr/local/lib/python3.11/dist-packages (from matplotlib) (24.2)\n",
            "Requirement already satisfied: pillow>=8 in /usr/local/lib/python3.11/dist-packages (from matplotlib) (11.2.1)\n",
            "Requirement already satisfied: pyparsing>=2.3.1 in /usr/local/lib/python3.11/dist-packages (from matplotlib) (3.2.3)\n",
            "Requirement already satisfied: python-dateutil>=2.7 in /usr/local/lib/python3.11/dist-packages (from matplotlib) (2.9.0.post0)\n",
            "Requirement already satisfied: six>=1.5 in /usr/local/lib/python3.11/dist-packages (from python-dateutil>=2.7->matplotlib) (1.17.0)\n",
            "Requirement already satisfied: scikit-image in /usr/local/lib/python3.11/dist-packages (0.25.2)\n",
            "Requirement already satisfied: numpy>=1.24 in /usr/local/lib/python3.11/dist-packages (from scikit-image) (2.0.2)\n",
            "Requirement already satisfied: scipy>=1.11.4 in /usr/local/lib/python3.11/dist-packages (from scikit-image) (1.15.3)\n",
            "Requirement already satisfied: networkx>=3.0 in /usr/local/lib/python3.11/dist-packages (from scikit-image) (3.5)\n",
            "Requirement already satisfied: pillow>=10.1 in /usr/local/lib/python3.11/dist-packages (from scikit-image) (11.2.1)\n",
            "Requirement already satisfied: imageio!=2.35.0,>=2.33 in /usr/local/lib/python3.11/dist-packages (from scikit-image) (2.37.0)\n",
            "Requirement already satisfied: tifffile>=2022.8.12 in /usr/local/lib/python3.11/dist-packages (from scikit-image) (2025.5.26)\n",
            "Requirement already satisfied: packaging>=21 in /usr/local/lib/python3.11/dist-packages (from scikit-image) (24.2)\n",
            "Requirement already satisfied: lazy-loader>=0.4 in /usr/local/lib/python3.11/dist-packages (from scikit-image) (0.4)\n"
          ]
        }
      ],
      "source": [
        "!pip install torch\n",
        "!pip install torchvision\n",
        "!pip install matplotlib\n",
        "!pip install scikit-image"
      ]
    },
    {
      "cell_type": "markdown",
      "source": [
        "Import required librarires\n"
      ],
      "metadata": {
        "id": "rRVpe500Khfx"
      }
    },
    {
      "cell_type": "code",
      "source": [
        "import os\n",
        "import numpy as np\n",
        "\n",
        "import torch\n",
        "import torch.nn as nn\n",
        "import torch.nn.functional as F\n",
        "from torch.utils.data import DataLoader\n",
        "from torch.autograd import Variable\n",
        "\n",
        "\n",
        "import torchvision.transforms as transforms\n",
        "from torchvision.utils import save_image\n",
        "from torchvision import datasets\n"
      ],
      "metadata": {
        "id": "Z_kexnmAKe0X"
      },
      "execution_count": 3,
      "outputs": []
    },
    {
      "cell_type": "markdown",
      "source": [
        "Define constants / model hyperparameters"
      ],
      "metadata": {
        "id": "ESxAFQnMLA7z"
      }
    },
    {
      "cell_type": "code",
      "source": [
        "num_eps=10\n",
        "bsize=32\n",
        "lrate=0.001\n",
        "lat_dimension=64\n",
        "image_sz=64\n",
        "chnls=1\n",
        "logging_intv=200"
      ],
      "metadata": {
        "id": "wNBXEw3DLC54"
      },
      "execution_count": 8,
      "outputs": []
    },
    {
      "cell_type": "markdown",
      "source": [
        "Defining the Generator\n"
      ],
      "metadata": {
        "id": "6_3a4j3yK6Wm"
      }
    },
    {
      "cell_type": "code",
      "source": [
        "class GANGenerator(nn.Module):\n",
        "  def __init__(self):\n",
        "    super(GANGenerator, self).__init__()\n",
        "    self.inp_sz=image_sz//4\n",
        "    self.lin = nn.Linear(lat_dimension, 128 * self.inp_sz ** 2)\n",
        "    self.bn1 = nn.BatchNorm2d(128)\n",
        "    self.up1 = nn.Upsample(scale_factor=2)\n",
        "    self.cn1 = nn.Conv2d(128, 128, 3, stride=1, padding=1)\n",
        "    self.bn2 = nn.BatchNorm2d(128, 0.8)\n",
        "    self.rl1 = nn.LeakyReLU(0.2, inplace=True)\n",
        "    self.up2 = nn.Upsample(scale_factor=2)\n",
        "    self.cn2 = nn.Conv2d(128, 64, 3, stride=1, padding=1)\n",
        "    self.bn3 = nn.BatchNorm2d(64, 0.8)\n",
        "    self.rl2 = nn.LeakyReLU(0.2, inplace=True)\n",
        "    self.cn3 = nn.Conv2d(64, chnls, 3, stride=1, padding=1)\n",
        "    self.act = nn.Tanh()\n",
        "\n",
        "  def forward(self, x):\n",
        "    x = self.lin(x)\n",
        "    x = x.view(x.shape[0], 128, self.inp_sz, self.inp_sz)\n",
        "    x = self.bn1(x)\n",
        "    x = self.up1(x)\n",
        "    x = self.cn1(x)\n",
        "    x = self.bn2(x)\n",
        "    x = self.rl1(x)\n",
        "    x = self.up2(x)\n",
        "    x = self.cn2(x)\n",
        "    x = self.bn3(x)\n",
        "    x = self.rl2(x)\n",
        "    x = self.cn3(x)\n",
        "    out = self.act(x)\n",
        "    return out"
      ],
      "metadata": {
        "id": "7R0dWLPiK5cs"
      },
      "execution_count": 9,
      "outputs": []
    },
    {
      "cell_type": "markdown",
      "source": [
        "Defining the Discriminator\n"
      ],
      "metadata": {
        "id": "cvgEjDDkMNE2"
      }
    },
    {
      "cell_type": "code",
      "source": [
        "class GANDiscriminator(nn.Module):\n",
        "    def __init__(self):\n",
        "        super(GANDiscriminator, self).__init__()\n",
        "\n",
        "        def disc_module(ip_chnls, op_chnls, bnorm=True):\n",
        "            mod = [nn.Conv2d(ip_chnls, op_chnls, 3, 2, 1),\n",
        "                   nn.LeakyReLU(0.2, inplace=True),\n",
        "                   nn.Dropout2d(0.25)]\n",
        "            if bnorm:\n",
        "                mod += [nn.BatchNorm2d(op_chnls, 0.8)]\n",
        "            return mod\n",
        "\n",
        "        self.disc_model = nn.Sequential(\n",
        "            *disc_module(chnls, 16, bnorm=False),\n",
        "            *disc_module(16, 32),\n",
        "            *disc_module(32, 64),\n",
        "            *disc_module(64, 128),\n",
        "        )\n",
        "\n",
        "        # width and height of the down-sized image\n",
        "        ds_size = image_sz // 2 ** 4\n",
        "        self.adverse_lyr = nn.Sequential(nn.Linear(128 * ds_size ** 2, 1), nn.Sigmoid())\n",
        "\n",
        "    def forward(self, x):\n",
        "        x = self.disc_model(x)\n",
        "        x = x.view(x.shape[0], -1)\n",
        "        out = self.adverse_lyr(x)\n",
        "        return out"
      ],
      "metadata": {
        "id": "lBYimQ78K5wj"
      },
      "execution_count": 10,
      "outputs": []
    },
    {
      "cell_type": "code",
      "source": [
        "# instantiate the discriminator and generator models\n",
        "gen = GANGenerator()\n",
        "disc = GANDiscriminator()\n",
        "\n",
        "# define the loss metric\n",
        "adv_loss_func = torch.nn.BCELoss()"
      ],
      "metadata": {
        "id": "xdOSVpZTPNQj"
      },
      "execution_count": 11,
      "outputs": []
    },
    {
      "cell_type": "markdown",
      "source": [
        "Loading the image dataset\n"
      ],
      "metadata": {
        "id": "E__ur8fMPWny"
      }
    },
    {
      "cell_type": "code",
      "source": [
        "# define the dataset and corresponding dataloader\n",
        "dloader = torch.utils.data.DataLoader(\n",
        "    datasets.MNIST(\n",
        "        \"./data/mnist/\",\n",
        "        download=True,\n",
        "        transform=transforms.Compose(\n",
        "            [transforms.Resize((image_sz, image_sz)),\n",
        "             transforms.ToTensor(), transforms.Normalize([0.5], [0.5])]\n",
        "        ),\n",
        "    ),\n",
        "    batch_size=bsize,\n",
        "    shuffle=True,\n",
        ")\n",
        "\n",
        "# define the optimization schedule for both G and D\n",
        "opt_gen = torch.optim.Adam(gen.parameters(), lr=lrate)\n",
        "opt_disc = torch.optim.Adam(disc.parameters(), lr=lrate)"
      ],
      "metadata": {
        "colab": {
          "base_uri": "https://localhost:8080/"
        },
        "id": "XMiRSp3DPO1s",
        "outputId": "4003bd01-66c0-4e44-fbdc-bdd7dbf4f03e"
      },
      "execution_count": 12,
      "outputs": [
        {
          "output_type": "stream",
          "name": "stderr",
          "text": [
            "100%|██████████| 9.91M/9.91M [00:00<00:00, 12.4MB/s]\n",
            "100%|██████████| 28.9k/28.9k [00:00<00:00, 340kB/s]\n",
            "100%|██████████| 1.65M/1.65M [00:00<00:00, 3.14MB/s]\n",
            "100%|██████████| 4.54k/4.54k [00:00<00:00, 6.48MB/s]\n"
          ]
        }
      ]
    },
    {
      "cell_type": "markdown",
      "source": [
        "Training loop for DCGAN\n"
      ],
      "metadata": {
        "id": "OSd_oIfKPm5u"
      }
    },
    {
      "cell_type": "code",
      "source": [
        "os.makedirs(\"./images_mnist\", exist_ok=True)\n",
        "\n",
        "for ep in range(num_eps):\n",
        "    for idx, (images, _) in enumerate(dloader):\n",
        "\n",
        "        # generate grounnd truths for real and fake images\n",
        "        good_img = Variable(torch.FloatTensor(images.shape[0], 1).fill_(1.0), requires_grad=False)\n",
        "        bad_img = Variable(torch.FloatTensor(images.shape[0], 1).fill_(0.0), requires_grad=False)\n",
        "\n",
        "        # get a real image\n",
        "        actual_images = Variable(images.type(torch.FloatTensor))\n",
        "\n",
        "        # train the generator model\n",
        "        opt_gen.zero_grad()\n",
        "\n",
        "        # generate a batch of images based on random noise as input\n",
        "        noise = Variable(torch.FloatTensor(np.random.normal(0, 1, (images.shape[0], lat_dimension))))\n",
        "        gen_images = gen(noise)\n",
        "\n",
        "        # generator model optimization - how well can it fool the discriminator\n",
        "        generator_loss = adv_loss_func(disc(gen_images), good_img)\n",
        "        generator_loss.backward()\n",
        "        opt_gen.step()\n",
        "\n",
        "        # train the discriminator model\n",
        "        opt_disc.zero_grad()\n",
        "\n",
        "        # calculate discriminator loss as average of mistakes(losses) in confusing real images as fake and vice versa\n",
        "        actual_image_loss = adv_loss_func(disc(actual_images), good_img)\n",
        "        fake_image_loss = adv_loss_func(disc(gen_images.detach()), bad_img)\n",
        "        discriminator_loss = (actual_image_loss + fake_image_loss) / 2\n",
        "\n",
        "        # discriminator model optimization\n",
        "        discriminator_loss.backward()\n",
        "        opt_disc.step()\n",
        "\n",
        "        batches_completed = ep * len(dloader) + idx\n",
        "        if batches_completed % logging_intv == 0:\n",
        "            print(f\"epoch number {ep} | batch number {idx} | generator loss = {generator_loss.item()} | discriminator loss = {discriminator_loss.item()}\")\n",
        "            save_image(gen_images.data[:25], f\"images_mnist/{batches_completed}.png\", nrow=5, normalize=True)"
      ],
      "metadata": {
        "colab": {
          "base_uri": "https://localhost:8080/"
        },
        "id": "2LF9Mg8DPe33",
        "outputId": "6c02bb79-5f7f-48ac-d50f-96431b354d18"
      },
      "execution_count": null,
      "outputs": [
        {
          "output_type": "stream",
          "name": "stdout",
          "text": [
            "epoch number 0 | batch number 0 | generator loss = 0.6900809407234192 | discriminator loss = 0.6945623159408569\n",
            "epoch number 0 | batch number 200 | generator loss = 1.6600499153137207 | discriminator loss = 0.3963393568992615\n",
            "epoch number 0 | batch number 400 | generator loss = 0.4077088534832001 | discriminator loss = 0.7591482400894165\n",
            "epoch number 0 | batch number 600 | generator loss = 0.9272058606147766 | discriminator loss = 0.5620033740997314\n",
            "epoch number 0 | batch number 800 | generator loss = 1.5625190734863281 | discriminator loss = 0.44851797819137573\n",
            "epoch number 0 | batch number 1000 | generator loss = 1.3791097402572632 | discriminator loss = 0.633518397808075\n",
            "epoch number 0 | batch number 1200 | generator loss = 2.1393632888793945 | discriminator loss = 0.19983847439289093\n",
            "epoch number 0 | batch number 1400 | generator loss = 0.41415977478027344 | discriminator loss = 0.8026267290115356\n",
            "epoch number 0 | batch number 1600 | generator loss = 2.282489061355591 | discriminator loss = 0.13470765948295593\n",
            "epoch number 0 | batch number 1800 | generator loss = 2.3021278381347656 | discriminator loss = 0.30761444568634033\n",
            "epoch number 1 | batch number 125 | generator loss = 0.7671917080879211 | discriminator loss = 0.2684715688228607\n",
            "epoch number 1 | batch number 325 | generator loss = 0.8825194835662842 | discriminator loss = 1.1165204048156738\n",
            "epoch number 1 | batch number 525 | generator loss = 3.971604108810425 | discriminator loss = 0.15142257511615753\n",
            "epoch number 1 | batch number 725 | generator loss = 3.1902830600738525 | discriminator loss = 0.4301133155822754\n",
            "epoch number 1 | batch number 925 | generator loss = 4.493767738342285 | discriminator loss = 0.2304779589176178\n",
            "epoch number 1 | batch number 1125 | generator loss = 2.143794298171997 | discriminator loss = 0.2347354292869568\n",
            "epoch number 1 | batch number 1325 | generator loss = 1.8923239707946777 | discriminator loss = 0.13721933960914612\n",
            "epoch number 1 | batch number 1525 | generator loss = 3.2484261989593506 | discriminator loss = 0.1781400591135025\n",
            "epoch number 1 | batch number 1725 | generator loss = 0.8427379131317139 | discriminator loss = 0.1777922362089157\n",
            "epoch number 2 | batch number 50 | generator loss = 2.5728280544281006 | discriminator loss = 0.10291673243045807\n",
            "epoch number 2 | batch number 250 | generator loss = 2.545325756072998 | discriminator loss = 0.060848843306303024\n",
            "epoch number 2 | batch number 450 | generator loss = 3.8214592933654785 | discriminator loss = 0.15259552001953125\n",
            "epoch number 2 | batch number 650 | generator loss = 3.1993207931518555 | discriminator loss = 0.13510702550411224\n",
            "epoch number 2 | batch number 850 | generator loss = 5.579421520233154 | discriminator loss = 0.2481352537870407\n",
            "epoch number 2 | batch number 1050 | generator loss = 6.406015396118164 | discriminator loss = 0.012351520359516144\n",
            "epoch number 2 | batch number 1250 | generator loss = 1.8929466009140015 | discriminator loss = 0.4888949394226074\n",
            "epoch number 2 | batch number 1450 | generator loss = 3.4098830223083496 | discriminator loss = 0.10838919878005981\n",
            "epoch number 2 | batch number 1650 | generator loss = 2.7782979011535645 | discriminator loss = 0.10912880301475525\n",
            "epoch number 2 | batch number 1850 | generator loss = 4.3320207595825195 | discriminator loss = 0.05080266296863556\n",
            "epoch number 3 | batch number 175 | generator loss = 2.222412586212158 | discriminator loss = 0.168440043926239\n",
            "epoch number 3 | batch number 375 | generator loss = 5.896352291107178 | discriminator loss = 0.0426662303507328\n",
            "epoch number 3 | batch number 575 | generator loss = 3.197309970855713 | discriminator loss = 0.21337418258190155\n",
            "epoch number 3 | batch number 775 | generator loss = 6.411380767822266 | discriminator loss = 0.7706264853477478\n",
            "epoch number 3 | batch number 975 | generator loss = 4.450030326843262 | discriminator loss = 0.20424997806549072\n"
          ]
        }
      ]
    },
    {
      "cell_type": "code",
      "source": [],
      "metadata": {
        "id": "2aFKmIqwPvHN"
      },
      "execution_count": null,
      "outputs": []
    }
  ]
}