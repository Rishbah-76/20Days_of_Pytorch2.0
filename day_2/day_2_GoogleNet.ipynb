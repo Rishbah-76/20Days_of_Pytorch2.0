{
  "nbformat": 4,
  "nbformat_minor": 0,
  "metadata": {
    "colab": {
      "provenance": [],
      "gpuType": "T4"
    },
    "kernelspec": {
      "name": "python3",
      "display_name": "Python 3"
    },
    "language_info": {
      "name": "python"
    },
    "accelerator": "GPU"
  },
  "cells": [
    {
      "cell_type": "code",
      "source": [
        "import os\n",
        "import time\n",
        "import copy\n",
        "import numpy as np\n",
        "import matplotlib.pyplot as plt\n",
        "\n",
        "import torch\n",
        "import torchvision\n",
        "import torch.nn as nn\n",
        "from torch.optim import lr_scheduler\n",
        "from torchvision import datasets, models, transforms"
      ],
      "metadata": {
        "id": "xSLMiltfeIG9"
      },
      "execution_count": 56,
      "outputs": []
    },
    {
      "cell_type": "code",
      "source": [
        "class InceptionModule(nn.Module):\n",
        "  def __init__(self, input_planes, n_channels1x1, n_channels3x3red, n_channels3x3, n_channels5x5red, n_channels5x5, pooling_planes) -> None:\n",
        "    super(InceptionModule,self).__init__()\n",
        "\n",
        "    # 1x1 convolution branch\n",
        "    self.block1=nn.Sequential(\n",
        "        nn.Conv2d(input_planes, n_channels1x1, kernel_size=1),\n",
        "        nn.BatchNorm2d(n_channels1x1),\n",
        "        nn.ReLU(inplace=True)\n",
        "    )\n",
        "\n",
        "    #1x1 --> 3x3 conv:\n",
        "    self.block2=nn.Sequential(\n",
        "        nn.Conv2d(input_planes, n_channels3x3red, kernel_size=1),\n",
        "        nn.BatchNorm2d(n_channels3x3red),\n",
        "        nn.ReLU(inplace=True),\n",
        "        nn.Conv2d(n_channels3x3red, n_channels3x3, kernel_size=3, padding=1),\n",
        "        nn.BatchNorm2d(n_channels3x3),\n",
        "        nn.ReLU(inplace=True))\n",
        "\n",
        "     # 1x1 conv -> 5x5 conv branch\n",
        "    self.block3 = nn.Sequential(\n",
        "        nn.Conv2d(input_planes, n_channels5x5red, kernel_size=1),\n",
        "        nn.BatchNorm2d(n_channels5x5red),\n",
        "        nn.ReLU(True),\n",
        "        nn.Conv2d(n_channels5x5red, n_channels5x5, kernel_size=3, padding=1),\n",
        "        nn.BatchNorm2d(n_channels5x5),\n",
        "        nn.ReLU(True),\n",
        "        nn.Conv2d(n_channels5x5, n_channels5x5, kernel_size=3, padding=1),\n",
        "        nn.BatchNorm2d(n_channels5x5),\n",
        "        nn.ReLU(True),\n",
        "    )\n",
        "\n",
        "    # 3x3 pool -> 1x1 conv branch\n",
        "    self.block4 = nn.Sequential(\n",
        "        nn.MaxPool2d(3, stride=1, padding=1),\n",
        "        nn.Conv2d(input_planes, pooling_planes, kernel_size=1),\n",
        "        nn.BatchNorm2d(pooling_planes),\n",
        "        nn.ReLU(True),\n",
        "    )\n",
        "\n",
        "  def forward(self, x):\n",
        "    x1 = self.block1(x)\n",
        "    x2 = self.block2(x)\n",
        "    x3 = self.block3(x)\n",
        "    x4 = self.block4(x)\n",
        "    return torch.cat([x1, x2, x3, x4], 1)\n",
        "\n",
        ""
      ],
      "metadata": {
        "id": "uXB3uSSRBIko"
      },
      "execution_count": 57,
      "outputs": []
    },
    {
      "cell_type": "code",
      "source": [
        "class GoogleNet(nn.Module):\n",
        "  def __init__(self) -> None:\n",
        "    super(GoogleNet, self).__init__()\n",
        "    self.prelayer = nn.Sequential(\n",
        "        nn.Conv2d(3, 192, kernel_size=3, padding=1),\n",
        "        nn.BatchNorm2d(192),\n",
        "        nn.ReLU(True),\n",
        "    )\n",
        "    self.im1 = InceptionModule(192, 64, 96, 128, 16, 32, 32)\n",
        "    self.im2= InceptionModule(256, 128, 128, 192, 32, 96, 64)\n",
        "\n",
        "    self.maxpool = nn.MaxPool2d(3, stride=2, padding=1)\n",
        "\n",
        "    self.im3 = InceptionModule(480, 192,  96, 208, 16,  48,  64)\n",
        "    self.im4 = InceptionModule(512, 160, 112, 224, 24,  64,  64)\n",
        "    self.im5 = InceptionModule(512, 128, 128, 256, 24,  64,  64)\n",
        "    self.im6 = InceptionModule(512, 112, 144, 288, 32,  64,  64)\n",
        "    self.im7 = InceptionModule(528, 256, 160, 320, 32, 128, 128)\n",
        "\n",
        "    self.im8 = InceptionModule(832, 256, 160, 320, 32, 128, 128)\n",
        "    self.im9 = InceptionModule(832, 384, 192, 384, 48, 128, 128)\n",
        "\n",
        "    self.average_pool = nn.AvgPool2d(7, stride=1)\n",
        "    self.fc = nn.Linear(4096, 1000)\n",
        "\n",
        "  def forward(self, ip):\n",
        "    op = self.prelayer(ip)\n",
        "    out = self.im1(op)\n",
        "    out = self.im2(op)\n",
        "    op = self.maxpool(op)\n",
        "    op = self.im3(op)\n",
        "    op = self.im4(op)\n",
        "    op = self.im5(op)\n",
        "    op = self.im6(op)\n",
        "    op = self.im7(op)\n",
        "    op = self.max_pool(op)\n",
        "    op = self.im8(op)\n",
        "    op = self.im9(op)\n",
        "    op = self.avgerage_pool(op)\n",
        "    op = op.view(op.size(0), -1)\n",
        "    op = self.fc(op)\n",
        "    return op"
      ],
      "metadata": {
        "id": "Zq2dFQ0xD4xV"
      },
      "execution_count": 58,
      "outputs": []
    },
    {
      "cell_type": "code",
      "source": [],
      "metadata": {
        "id": "P6r52v33FjMe"
      },
      "execution_count": null,
      "outputs": []
    }
  ]
}